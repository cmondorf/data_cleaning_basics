{
 "cells": [
  {
   "cell_type": "markdown",
   "metadata": {},
   "source": [
    "# Data cleaning basics\n",
    "\n",
    "Dataquest's _Data cleaning basics_ mission (part of the [_Pandas and Numpy fundamentals_](https://www.dataquest.io/course/pandas-fundamentals/) course) uses Pandas to clean up parts of a dataset on laptops. The mission ends with some additional suggested tasks and questions to explore.\n",
    "\n",
    "This notebook recreates the examples used in the mission as a way to review them and let them sink in, and also includes the suggested tasks and questions below."
   ]
  },
  {
   "cell_type": "markdown",
   "metadata": {},
   "source": [
    "## 1. Course steps\n",
    "\n",
    "This first section includes importing the data from a CSV, cleaning column names, as well as converting data to numeric types when appropriate and cleaning out some bad data."
   ]
  },
  {
   "cell_type": "code",
   "execution_count": 1,
   "metadata": {
    "collapsed": true
   },
   "outputs": [],
   "source": [
    "# import necessary packages\n",
    "\n",
    "import numpy as np\n",
    "import pandas as pd"
   ]
  },
  {
   "cell_type": "code",
   "execution_count": 2,
   "metadata": {},
   "outputs": [],
   "source": [
    "# import data from CSV as a dataframe\n",
    "\n",
    "laptops = pd.read_csv('laptops.csv', encoding='Latin-1')"
   ]
  },
  {
   "cell_type": "code",
   "execution_count": 3,
   "metadata": {},
   "outputs": [
    {
     "data": {
      "text/plain": [
       "(1303, 13)"
      ]
     },
     "execution_count": 3,
     "metadata": {},
     "output_type": "execute_result"
    }
   ],
   "source": [
    "laptops.shape"
   ]
  },
  {
   "cell_type": "code",
   "execution_count": 4,
   "metadata": {},
   "outputs": [
    {
     "name": "stdout",
     "output_type": "stream",
     "text": [
      "<class 'pandas.core.frame.DataFrame'>\n",
      "RangeIndex: 1303 entries, 0 to 1302\n",
      "Data columns (total 13 columns):\n",
      "Manufacturer                1303 non-null object\n",
      "Model Name                  1303 non-null object\n",
      "Category                    1303 non-null object\n",
      "Screen Size                 1303 non-null object\n",
      "Screen                      1303 non-null object\n",
      "CPU                         1303 non-null object\n",
      "RAM                         1303 non-null object\n",
      " Storage                    1303 non-null object\n",
      "GPU                         1303 non-null object\n",
      "Operating System            1303 non-null object\n",
      "Operating System Version    1133 non-null object\n",
      "Weight                      1303 non-null object\n",
      "Price (Euros)               1303 non-null object\n",
      "dtypes: object(13)\n",
      "memory usage: 132.4+ KB\n"
     ]
    }
   ],
   "source": [
    "laptops.info()"
   ]
  },
  {
   "cell_type": "markdown",
   "metadata": {},
   "source": [
    "All columns have string (object) data, even though several are clearly numeric in nature.\n",
    "\n",
    "We can confirm this by examining the first rows in each column."
   ]
  },
  {
   "cell_type": "code",
   "execution_count": 5,
   "metadata": {},
   "outputs": [
    {
     "data": {
      "text/html": [
       "<div>\n",
       "<style>\n",
       "    .dataframe thead tr:only-child th {\n",
       "        text-align: right;\n",
       "    }\n",
       "\n",
       "    .dataframe thead th {\n",
       "        text-align: left;\n",
       "    }\n",
       "\n",
       "    .dataframe tbody tr th {\n",
       "        vertical-align: top;\n",
       "    }\n",
       "</style>\n",
       "<table border=\"1\" class=\"dataframe\">\n",
       "  <thead>\n",
       "    <tr style=\"text-align: right;\">\n",
       "      <th></th>\n",
       "      <th>Manufacturer</th>\n",
       "      <th>Model Name</th>\n",
       "      <th>Category</th>\n",
       "      <th>Screen Size</th>\n",
       "      <th>Screen</th>\n",
       "      <th>CPU</th>\n",
       "      <th>RAM</th>\n",
       "      <th>Storage</th>\n",
       "      <th>GPU</th>\n",
       "      <th>Operating System</th>\n",
       "      <th>Operating System Version</th>\n",
       "      <th>Weight</th>\n",
       "      <th>Price (Euros)</th>\n",
       "    </tr>\n",
       "  </thead>\n",
       "  <tbody>\n",
       "    <tr>\n",
       "      <th>0</th>\n",
       "      <td>Apple</td>\n",
       "      <td>MacBook Pro</td>\n",
       "      <td>Ultrabook</td>\n",
       "      <td>13.3\"</td>\n",
       "      <td>IPS Panel Retina Display 2560x1600</td>\n",
       "      <td>Intel Core i5 2.3GHz</td>\n",
       "      <td>8GB</td>\n",
       "      <td>128GB SSD</td>\n",
       "      <td>Intel Iris Plus Graphics 640</td>\n",
       "      <td>macOS</td>\n",
       "      <td>NaN</td>\n",
       "      <td>1.37kg</td>\n",
       "      <td>1339,69</td>\n",
       "    </tr>\n",
       "    <tr>\n",
       "      <th>1</th>\n",
       "      <td>Apple</td>\n",
       "      <td>Macbook Air</td>\n",
       "      <td>Ultrabook</td>\n",
       "      <td>13.3\"</td>\n",
       "      <td>1440x900</td>\n",
       "      <td>Intel Core i5 1.8GHz</td>\n",
       "      <td>8GB</td>\n",
       "      <td>128GB Flash Storage</td>\n",
       "      <td>Intel HD Graphics 6000</td>\n",
       "      <td>macOS</td>\n",
       "      <td>NaN</td>\n",
       "      <td>1.34kg</td>\n",
       "      <td>898,94</td>\n",
       "    </tr>\n",
       "    <tr>\n",
       "      <th>2</th>\n",
       "      <td>HP</td>\n",
       "      <td>250 G6</td>\n",
       "      <td>Notebook</td>\n",
       "      <td>15.6\"</td>\n",
       "      <td>Full HD 1920x1080</td>\n",
       "      <td>Intel Core i5 7200U 2.5GHz</td>\n",
       "      <td>8GB</td>\n",
       "      <td>256GB SSD</td>\n",
       "      <td>Intel HD Graphics 620</td>\n",
       "      <td>No OS</td>\n",
       "      <td>NaN</td>\n",
       "      <td>1.86kg</td>\n",
       "      <td>575,00</td>\n",
       "    </tr>\n",
       "    <tr>\n",
       "      <th>3</th>\n",
       "      <td>Apple</td>\n",
       "      <td>MacBook Pro</td>\n",
       "      <td>Ultrabook</td>\n",
       "      <td>15.4\"</td>\n",
       "      <td>IPS Panel Retina Display 2880x1800</td>\n",
       "      <td>Intel Core i7 2.7GHz</td>\n",
       "      <td>16GB</td>\n",
       "      <td>512GB SSD</td>\n",
       "      <td>AMD Radeon Pro 455</td>\n",
       "      <td>macOS</td>\n",
       "      <td>NaN</td>\n",
       "      <td>1.83kg</td>\n",
       "      <td>2537,45</td>\n",
       "    </tr>\n",
       "    <tr>\n",
       "      <th>4</th>\n",
       "      <td>Apple</td>\n",
       "      <td>MacBook Pro</td>\n",
       "      <td>Ultrabook</td>\n",
       "      <td>13.3\"</td>\n",
       "      <td>IPS Panel Retina Display 2560x1600</td>\n",
       "      <td>Intel Core i5 3.1GHz</td>\n",
       "      <td>8GB</td>\n",
       "      <td>256GB SSD</td>\n",
       "      <td>Intel Iris Plus Graphics 650</td>\n",
       "      <td>macOS</td>\n",
       "      <td>NaN</td>\n",
       "      <td>1.37kg</td>\n",
       "      <td>1803,60</td>\n",
       "    </tr>\n",
       "  </tbody>\n",
       "</table>\n",
       "</div>"
      ],
      "text/plain": [
       "  Manufacturer   Model Name   Category Screen Size  \\\n",
       "0        Apple  MacBook Pro  Ultrabook       13.3\"   \n",
       "1        Apple  Macbook Air  Ultrabook       13.3\"   \n",
       "2           HP       250 G6   Notebook       15.6\"   \n",
       "3        Apple  MacBook Pro  Ultrabook       15.4\"   \n",
       "4        Apple  MacBook Pro  Ultrabook       13.3\"   \n",
       "\n",
       "                               Screen                         CPU   RAM  \\\n",
       "0  IPS Panel Retina Display 2560x1600        Intel Core i5 2.3GHz   8GB   \n",
       "1                            1440x900        Intel Core i5 1.8GHz   8GB   \n",
       "2                   Full HD 1920x1080  Intel Core i5 7200U 2.5GHz   8GB   \n",
       "3  IPS Panel Retina Display 2880x1800        Intel Core i7 2.7GHz  16GB   \n",
       "4  IPS Panel Retina Display 2560x1600        Intel Core i5 3.1GHz   8GB   \n",
       "\n",
       "               Storage                           GPU Operating System  \\\n",
       "0            128GB SSD  Intel Iris Plus Graphics 640            macOS   \n",
       "1  128GB Flash Storage        Intel HD Graphics 6000            macOS   \n",
       "2            256GB SSD         Intel HD Graphics 620            No OS   \n",
       "3            512GB SSD            AMD Radeon Pro 455            macOS   \n",
       "4            256GB SSD  Intel Iris Plus Graphics 650            macOS   \n",
       "\n",
       "  Operating System Version  Weight Price (Euros)  \n",
       "0                      NaN  1.37kg       1339,69  \n",
       "1                      NaN  1.34kg        898,94  \n",
       "2                      NaN  1.86kg        575,00  \n",
       "3                      NaN  1.83kg       2537,45  \n",
       "4                      NaN  1.37kg       1803,60  "
      ]
     },
     "execution_count": 5,
     "metadata": {},
     "output_type": "execute_result"
    }
   ],
   "source": [
    "laptops.head()"
   ]
  },
  {
   "cell_type": "markdown",
   "metadata": {},
   "source": [
    "### Cleaning up the column titles\n",
    "\n",
    "The column titles are a mess. There is inconsistent capitalization, spaces, and other issues."
   ]
  },
  {
   "cell_type": "code",
   "execution_count": 6,
   "metadata": {
    "collapsed": true
   },
   "outputs": [],
   "source": [
    "columns = laptops.columns"
   ]
  },
  {
   "cell_type": "code",
   "execution_count": 7,
   "metadata": {},
   "outputs": [
    {
     "name": "stdout",
     "output_type": "stream",
     "text": [
      "Index(['Manufacturer', 'Model Name', 'Category', 'Screen Size', 'Screen',\n",
      "       'CPU', 'RAM', ' Storage', 'GPU', 'Operating System',\n",
      "       'Operating System Version', 'Weight', 'Price (Euros)'],\n",
      "      dtype='object')\n",
      "['manufacturer', 'modelname', 'category', 'screensize', 'screen', 'cpu', 'ram', 'storage', 'gpu', 'operatingsystem', 'operatingsystemversion', 'weight', 'priceeuros']\n"
     ]
    }
   ],
   "source": [
    "print(columns)\n",
    "\n",
    "updated_columns = []\n",
    "for c in columns:\n",
    "    c = c.strip()\n",
    "    c = c.lower()\n",
    "    c = c.replace(' ','')\n",
    "    c = c.replace('(','')\n",
    "    c = c.replace(')','')\n",
    "    updated_columns.append(c)\n",
    "    \n",
    "columns = updated_columns\n",
    "print(columns)\n",
    "    "
   ]
  },
  {
   "cell_type": "code",
   "execution_count": 8,
   "metadata": {},
   "outputs": [
    {
     "name": "stdout",
     "output_type": "stream",
     "text": [
      "['manufacturer', 'model', 'category', 'screensize', 'screen', 'cpu', 'ram', 'storage', 'gpu', 'os', 'os_version', 'weight', 'price_eu']\n"
     ]
    }
   ],
   "source": [
    "columns[1] = 'model'\n",
    "columns[9] = 'os'\n",
    "columns[10] = 'os_version'\n",
    "columns[-1] = 'price_eu'\n",
    "\n",
    "print(columns)"
   ]
  },
  {
   "cell_type": "code",
   "execution_count": 9,
   "metadata": {},
   "outputs": [
    {
     "name": "stdout",
     "output_type": "stream",
     "text": [
      "Index(['manufacturer', 'model', 'category', 'screensize', 'screen', 'cpu',\n",
      "       'ram', 'storage', 'gpu', 'os', 'os_version', 'weight', 'price_eu'],\n",
      "      dtype='object')\n"
     ]
    }
   ],
   "source": [
    "laptops.columns = columns\n",
    "print(laptops.columns)"
   ]
  },
  {
   "cell_type": "markdown",
   "metadata": {},
   "source": [
    "### Converting numeric columns to numeric formats\n",
    "\n",
    "As it now stands all columns are of the \"object\" dtype, meaning they're stored as strings. Some values, such as RAM amounts, are clearly numeric in nature.\n",
    "We'll convert those columns to the appropriate formats. In some cases this will require that we edit values, for example when removing units."
   ]
  },
  {
   "cell_type": "code",
   "execution_count": 10,
   "metadata": {},
   "outputs": [
    {
     "data": {
      "text/html": [
       "<div>\n",
       "<style>\n",
       "    .dataframe thead tr:only-child th {\n",
       "        text-align: right;\n",
       "    }\n",
       "\n",
       "    .dataframe thead th {\n",
       "        text-align: left;\n",
       "    }\n",
       "\n",
       "    .dataframe tbody tr th {\n",
       "        vertical-align: top;\n",
       "    }\n",
       "</style>\n",
       "<table border=\"1\" class=\"dataframe\">\n",
       "  <thead>\n",
       "    <tr style=\"text-align: right;\">\n",
       "      <th></th>\n",
       "      <th>manufacturer</th>\n",
       "      <th>model</th>\n",
       "      <th>category</th>\n",
       "      <th>screensize</th>\n",
       "      <th>screen</th>\n",
       "      <th>cpu</th>\n",
       "      <th>ram</th>\n",
       "      <th>storage</th>\n",
       "      <th>gpu</th>\n",
       "      <th>os</th>\n",
       "      <th>os_version</th>\n",
       "      <th>weight</th>\n",
       "      <th>price_eu</th>\n",
       "    </tr>\n",
       "  </thead>\n",
       "  <tbody>\n",
       "    <tr>\n",
       "      <th>0</th>\n",
       "      <td>Apple</td>\n",
       "      <td>MacBook Pro</td>\n",
       "      <td>Ultrabook</td>\n",
       "      <td>13.3\"</td>\n",
       "      <td>IPS Panel Retina Display 2560x1600</td>\n",
       "      <td>Intel Core i5 2.3GHz</td>\n",
       "      <td>8GB</td>\n",
       "      <td>128GB SSD</td>\n",
       "      <td>Intel Iris Plus Graphics 640</td>\n",
       "      <td>macOS</td>\n",
       "      <td>NaN</td>\n",
       "      <td>1.37kg</td>\n",
       "      <td>1339,69</td>\n",
       "    </tr>\n",
       "    <tr>\n",
       "      <th>1</th>\n",
       "      <td>Apple</td>\n",
       "      <td>Macbook Air</td>\n",
       "      <td>Ultrabook</td>\n",
       "      <td>13.3\"</td>\n",
       "      <td>1440x900</td>\n",
       "      <td>Intel Core i5 1.8GHz</td>\n",
       "      <td>8GB</td>\n",
       "      <td>128GB Flash Storage</td>\n",
       "      <td>Intel HD Graphics 6000</td>\n",
       "      <td>macOS</td>\n",
       "      <td>NaN</td>\n",
       "      <td>1.34kg</td>\n",
       "      <td>898,94</td>\n",
       "    </tr>\n",
       "    <tr>\n",
       "      <th>2</th>\n",
       "      <td>HP</td>\n",
       "      <td>250 G6</td>\n",
       "      <td>Notebook</td>\n",
       "      <td>15.6\"</td>\n",
       "      <td>Full HD 1920x1080</td>\n",
       "      <td>Intel Core i5 7200U 2.5GHz</td>\n",
       "      <td>8GB</td>\n",
       "      <td>256GB SSD</td>\n",
       "      <td>Intel HD Graphics 620</td>\n",
       "      <td>No OS</td>\n",
       "      <td>NaN</td>\n",
       "      <td>1.86kg</td>\n",
       "      <td>575,00</td>\n",
       "    </tr>\n",
       "  </tbody>\n",
       "</table>\n",
       "</div>"
      ],
      "text/plain": [
       "  manufacturer        model   category screensize  \\\n",
       "0        Apple  MacBook Pro  Ultrabook      13.3\"   \n",
       "1        Apple  Macbook Air  Ultrabook      13.3\"   \n",
       "2           HP       250 G6   Notebook      15.6\"   \n",
       "\n",
       "                               screen                         cpu  ram  \\\n",
       "0  IPS Panel Retina Display 2560x1600        Intel Core i5 2.3GHz  8GB   \n",
       "1                            1440x900        Intel Core i5 1.8GHz  8GB   \n",
       "2                   Full HD 1920x1080  Intel Core i5 7200U 2.5GHz  8GB   \n",
       "\n",
       "               storage                           gpu     os os_version  \\\n",
       "0            128GB SSD  Intel Iris Plus Graphics 640  macOS        NaN   \n",
       "1  128GB Flash Storage        Intel HD Graphics 6000  macOS        NaN   \n",
       "2            256GB SSD         Intel HD Graphics 620  No OS        NaN   \n",
       "\n",
       "   weight price_eu  \n",
       "0  1.37kg  1339,69  \n",
       "1  1.34kg   898,94  \n",
       "2  1.86kg   575,00  "
      ]
     },
     "execution_count": 10,
     "metadata": {},
     "output_type": "execute_result"
    }
   ],
   "source": [
    "laptops.head(3)"
   ]
  },
  {
   "cell_type": "markdown",
   "metadata": {},
   "source": [
    "Screensize, ram, weight and price are all numeric data."
   ]
  },
  {
   "cell_type": "markdown",
   "metadata": {},
   "source": [
    "#### Converting 'screensize'"
   ]
  },
  {
   "cell_type": "code",
   "execution_count": 11,
   "metadata": {},
   "outputs": [
    {
     "data": {
      "text/plain": [
       "15.6\"    665\n",
       "14.0\"    197\n",
       "17.3\"    164\n",
       "13.3\"    164\n",
       "12.5\"     39\n",
       "11.6\"     33\n",
       "12.0\"      6\n",
       "13.9\"      6\n",
       "13.5\"      6\n",
       "12.3\"      5\n",
       "15.4\"      4\n",
       "10.1\"      4\n",
       "15.0\"      4\n",
       "13.0\"      2\n",
       "14.1\"      1\n",
       "11.3\"      1\n",
       "17.0\"      1\n",
       "18.4\"      1\n",
       "Name: screensize, dtype: int64"
      ]
     },
     "execution_count": 11,
     "metadata": {},
     "output_type": "execute_result"
    }
   ],
   "source": [
    "laptops['screensize'].value_counts(dropna=False)"
   ]
  },
  {
   "cell_type": "markdown",
   "metadata": {},
   "source": [
    "Without exceptions, all values in the screensize columns are made up of three digits and a unit. We can drop the unit and convert the dtype to float.\n",
    "To avoid losing any data, we'll include the unit the column title."
   ]
  },
  {
   "cell_type": "code",
   "execution_count": 12,
   "metadata": {},
   "outputs": [
    {
     "data": {
      "text/plain": [
       "15.6    665\n",
       "14.0    197\n",
       "13.3    164\n",
       "17.3    164\n",
       "12.5     39\n",
       "11.6     33\n",
       "13.9      6\n",
       "13.5      6\n",
       "12.0      6\n",
       "12.3      5\n",
       "15.4      4\n",
       "10.1      4\n",
       "15.0      4\n",
       "13.0      2\n",
       "18.4      1\n",
       "14.1      1\n",
       "17.0      1\n",
       "11.3      1\n",
       "Name: screensize, dtype: int64"
      ]
     },
     "execution_count": 12,
     "metadata": {},
     "output_type": "execute_result"
    }
   ],
   "source": [
    "laptops['screensize'] = laptops['screensize'].str[:4]\n",
    "laptops['screensize'] = laptops['screensize'].astype(float)\n",
    "laptops['screensize'].value_counts(dropna=False)"
   ]
  },
  {
   "cell_type": "code",
   "execution_count": 13,
   "metadata": {},
   "outputs": [],
   "source": [
    "columns = laptops.columns"
   ]
  },
  {
   "cell_type": "code",
   "execution_count": 14,
   "metadata": {},
   "outputs": [
    {
     "name": "stdout",
     "output_type": "stream",
     "text": [
      "Index(['manufacturer', 'model', 'category', 'screensize', 'screen', 'cpu',\n",
      "       'ram', 'storage', 'gpu', 'os', 'os_version', 'weight', 'price_eu'],\n",
      "      dtype='object')\n",
      "['manufacturer', 'model', 'category', 'screensize_in', 'screen', 'cpu', 'ram', 'storage', 'gpu', 'os', 'os_version', 'weight', 'price_eu']\n"
     ]
    }
   ],
   "source": [
    "# Renaming the screensize column to make sure that no information is lost.\n",
    "print(columns)\n",
    "columns = ['manufacturer', 'model', 'category', 'screensize_in', 'screen', 'cpu',\n",
    "       'ram', 'storage', 'gpu', 'os', 'os_version', 'weight', 'price_eu']\n",
    "print(columns)"
   ]
  },
  {
   "cell_type": "markdown",
   "metadata": {},
   "source": [
    "Next, let's turn our attention to ram."
   ]
  },
  {
   "cell_type": "code",
   "execution_count": 15,
   "metadata": {},
   "outputs": [
    {
     "data": {
      "text/plain": [
       "8GB     619\n",
       "4GB     375\n",
       "16GB    200\n",
       "6GB      41\n",
       "12GB     25\n",
       "2GB      22\n",
       "32GB     17\n",
       "24GB      3\n",
       "64GB      1\n",
       "Name: ram, dtype: int64"
      ]
     },
     "execution_count": 15,
     "metadata": {},
     "output_type": "execute_result"
    }
   ],
   "source": [
    "laptops['ram'].value_counts()"
   ]
  },
  {
   "cell_type": "markdown",
   "metadata": {},
   "source": [
    "#### converting 'ram'\n",
    "\n",
    "The format is very similar to what we saw with screensize. We will remove the units but put them in the column label to prevent any loss of information, and convert the values to floats."
   ]
  },
  {
   "cell_type": "code",
   "execution_count": 16,
   "metadata": {},
   "outputs": [],
   "source": [
    "laptops['ram'] = laptops['ram'].str.replace('GB','').astype(float)\n",
    "columns = ['manufacturer', 'model', 'category', 'screensize_in', 'screen', 'cpu',\n",
    "       'ram_gb', 'storage', 'gpu', 'os', 'os_version', 'weight', 'price_eu']\n"
   ]
  },
  {
   "cell_type": "code",
   "execution_count": 17,
   "metadata": {},
   "outputs": [
    {
     "data": {
      "text/plain": [
       "8.0     619\n",
       "4.0     375\n",
       "16.0    200\n",
       "6.0      41\n",
       "12.0     25\n",
       "2.0      22\n",
       "32.0     17\n",
       "24.0      3\n",
       "64.0      1\n",
       "Name: ram, dtype: int64"
      ]
     },
     "execution_count": 17,
     "metadata": {},
     "output_type": "execute_result"
    }
   ],
   "source": [
    "laptops['ram'].value_counts()"
   ]
  },
  {
   "cell_type": "markdown",
   "metadata": {},
   "source": [
    "#### Converting the 'weight' column\n",
    "\n",
    "The 'weight' column is in a similar situation. Again, we will rename the label and convert the values to floats after having removed the units."
   ]
  },
  {
   "cell_type": "code",
   "execution_count": 20,
   "metadata": {},
   "outputs": [],
   "source": [
    "# note that there is one entry where the weight is given as \"4kgs\",\n",
    "# so a step to remove \"kgs\" as well as \"kg\" was needed.\n",
    "\n",
    "laptops['weight'] = laptops['weight'].str.replace('kgs','').str.replace('kg','').astype(float)\n",
    "columns = ['manufacturer', 'model', 'category', 'screensize_in', 'screen', 'cpu',\n",
    "       'ram_gb', 'storage', 'gpu', 'os', 'os_version', 'weight_kg', 'price_eu']"
   ]
  },
  {
   "cell_type": "markdown",
   "metadata": {},
   "source": [
    "#### Converting the 'price' column\n",
    "\n",
    "Finally, the price column should get a similar treatment."
   ]
  },
  {
   "cell_type": "code",
   "execution_count": 25,
   "metadata": {},
   "outputs": [],
   "source": [
    "laptops['price_eu'] = laptops['price_eu'].str.replace(',','.')"
   ]
  },
  {
   "cell_type": "code",
   "execution_count": 27,
   "metadata": {},
   "outputs": [],
   "source": [
    "laptops['price_eu'] = laptops['price_eu'].astype(float)"
   ]
  },
  {
   "cell_type": "code",
   "execution_count": 28,
   "metadata": {},
   "outputs": [
    {
     "data": {
      "text/plain": [
       "count    1303.000000\n",
       "mean     1123.686992\n",
       "std       699.009043\n",
       "min       174.000000\n",
       "25%       599.000000\n",
       "50%       977.000000\n",
       "75%      1487.880000\n",
       "max      6099.000000\n",
       "Name: price_eu, dtype: float64"
      ]
     },
     "execution_count": 28,
     "metadata": {},
     "output_type": "execute_result"
    }
   ],
   "source": [
    "laptops['price_eu'].describe()"
   ]
  },
  {
   "cell_type": "markdown",
   "metadata": {},
   "source": [
    "We can see from the fact that the describe method now returns summary statistics that this series has been successfully converted to a float type."
   ]
  },
  {
   "cell_type": "markdown",
   "metadata": {},
   "source": [
    "## Cleaning up the GPU column\n",
    "\n"
   ]
  },
  {
   "cell_type": "code",
   "execution_count": 31,
   "metadata": {},
   "outputs": [
    {
     "data": {
      "text/plain": [
       "0    Intel Iris Plus Graphics 640\n",
       "1          Intel HD Graphics 6000\n",
       "2           Intel HD Graphics 620\n",
       "3              AMD Radeon Pro 455\n",
       "4    Intel Iris Plus Graphics 650\n",
       "5                   AMD Radeon R5\n",
       "6         Intel Iris Pro Graphics\n",
       "7          Intel HD Graphics 6000\n",
       "8            Nvidia GeForce MX150\n",
       "9          Intel UHD Graphics 620\n",
       "Name: gpu, dtype: object"
      ]
     },
     "execution_count": 31,
     "metadata": {},
     "output_type": "execute_result"
    }
   ],
   "source": [
    "laptops['gpu'].head(10)"
   ]
  },
  {
   "cell_type": "markdown",
   "metadata": {},
   "source": [
    "The structure of this column is manufacturer name, followed by some kind of model name or number. Let's extract out the manufacturers."
   ]
  },
  {
   "cell_type": "code",
   "execution_count": 34,
   "metadata": {},
   "outputs": [],
   "source": [
    "laptops['gpu_manufacturer'] = laptops['gpu'].str.split().str[0]"
   ]
  },
  {
   "cell_type": "code",
   "execution_count": 39,
   "metadata": {},
   "outputs": [
    {
     "data": {
      "text/plain": [
       "Intel     0.554106\n",
       "Nvidia    0.306984\n",
       "AMD       0.138143\n",
       "ARM       0.000767\n",
       "Name: gpu_manufacturer, dtype: float64"
      ]
     },
     "execution_count": 39,
     "metadata": {},
     "output_type": "execute_result"
    }
   ],
   "source": [
    "laptops['gpu_manufacturer'].value_counts(dropna=False, normalize=True)"
   ]
  },
  {
   "cell_type": "markdown",
   "metadata": {},
   "source": [
    "Reassuringly, all entries in this new column are correct, well-formatted manufacturer names. In passing, we also learned that more than half of GPUs for the laptops in this dataset are manufactured by Intel.\n",
    "\n",
    "Let's do something similar for the 'cpu' column."
   ]
  },
  {
   "cell_type": "code",
   "execution_count": 40,
   "metadata": {},
   "outputs": [
    {
     "data": {
      "text/plain": [
       "Intel      0.951650\n",
       "AMD        0.047583\n",
       "Samsung    0.000767\n",
       "Name: cpu_manufacturer, dtype: float64"
      ]
     },
     "execution_count": 40,
     "metadata": {},
     "output_type": "execute_result"
    }
   ],
   "source": [
    "laptops['cpu_manufacturer'] = laptops['cpu'].str.split().str[0]\n",
    "laptops['cpu_manufacturer'].value_counts(dropna=False, normalize=True)"
   ]
  },
  {
   "cell_type": "markdown",
   "metadata": {},
   "source": [
    "## Cleaning the OS data"
   ]
  },
  {
   "cell_type": "code",
   "execution_count": 45,
   "metadata": {},
   "outputs": [
    {
     "data": {
      "text/html": [
       "<div>\n",
       "<style>\n",
       "    .dataframe thead tr:only-child th {\n",
       "        text-align: right;\n",
       "    }\n",
       "\n",
       "    .dataframe thead th {\n",
       "        text-align: left;\n",
       "    }\n",
       "\n",
       "    .dataframe tbody tr th {\n",
       "        vertical-align: top;\n",
       "    }\n",
       "</style>\n",
       "<table border=\"1\" class=\"dataframe\">\n",
       "  <thead>\n",
       "    <tr style=\"text-align: right;\">\n",
       "      <th></th>\n",
       "      <th>os</th>\n",
       "      <th>os_version</th>\n",
       "    </tr>\n",
       "  </thead>\n",
       "  <tbody>\n",
       "    <tr>\n",
       "      <th>0</th>\n",
       "      <td>macOS</td>\n",
       "      <td>NaN</td>\n",
       "    </tr>\n",
       "    <tr>\n",
       "      <th>1</th>\n",
       "      <td>macOS</td>\n",
       "      <td>NaN</td>\n",
       "    </tr>\n",
       "    <tr>\n",
       "      <th>2</th>\n",
       "      <td>No OS</td>\n",
       "      <td>NaN</td>\n",
       "    </tr>\n",
       "    <tr>\n",
       "      <th>3</th>\n",
       "      <td>macOS</td>\n",
       "      <td>NaN</td>\n",
       "    </tr>\n",
       "    <tr>\n",
       "      <th>4</th>\n",
       "      <td>macOS</td>\n",
       "      <td>NaN</td>\n",
       "    </tr>\n",
       "    <tr>\n",
       "      <th>5</th>\n",
       "      <td>Windows</td>\n",
       "      <td>10</td>\n",
       "    </tr>\n",
       "    <tr>\n",
       "      <th>6</th>\n",
       "      <td>Mac OS</td>\n",
       "      <td>X</td>\n",
       "    </tr>\n",
       "    <tr>\n",
       "      <th>7</th>\n",
       "      <td>macOS</td>\n",
       "      <td>NaN</td>\n",
       "    </tr>\n",
       "    <tr>\n",
       "      <th>8</th>\n",
       "      <td>Windows</td>\n",
       "      <td>10</td>\n",
       "    </tr>\n",
       "    <tr>\n",
       "      <th>9</th>\n",
       "      <td>Windows</td>\n",
       "      <td>10</td>\n",
       "    </tr>\n",
       "  </tbody>\n",
       "</table>\n",
       "</div>"
      ],
      "text/plain": [
       "        os os_version\n",
       "0    macOS        NaN\n",
       "1    macOS        NaN\n",
       "2    No OS        NaN\n",
       "3    macOS        NaN\n",
       "4    macOS        NaN\n",
       "5  Windows         10\n",
       "6   Mac OS          X\n",
       "7    macOS        NaN\n",
       "8  Windows         10\n",
       "9  Windows         10"
      ]
     },
     "execution_count": 45,
     "metadata": {},
     "output_type": "execute_result"
    }
   ],
   "source": [
    "laptops.loc[:,['os', 'os_version']].head(10)"
   ]
  },
  {
   "cell_type": "code",
   "execution_count": 48,
   "metadata": {},
   "outputs": [
    {
     "data": {
      "text/plain": [
       "Windows      1125\n",
       "No OS          66\n",
       "Linux          62\n",
       "Chrome OS      27\n",
       "macOS          13\n",
       "Mac OS          8\n",
       "Android         2\n",
       "Name: os, dtype: int64"
      ]
     },
     "execution_count": 48,
     "metadata": {},
     "output_type": "execute_result"
    }
   ],
   "source": [
    "laptops['os'].value_counts(dropna=False)"
   ]
  },
  {
   "cell_type": "markdown",
   "metadata": {},
   "source": [
    "We know that 'macOS' and 'Mac OS' both refer to the same thing. Having two labels can be an issue when calculating which OSs are most popular.\n",
    "\n",
    "To solve this issue let's replace both values with 'macOS'."
   ]
  },
  {
   "cell_type": "code",
   "execution_count": 50,
   "metadata": {
    "collapsed": true
   },
   "outputs": [],
   "source": [
    "mapping_dict = {\n",
    "    'Android': 'Android',\n",
    "    'Chrome OS': 'Chrome OS',\n",
    "    'Linux': 'Linux',\n",
    "    'Mac OS': 'macOS',\n",
    "    'No OS': 'No OS',\n",
    "    'Windows': 'Windows',\n",
    "    'macOS': 'macOS'\n",
    "}\n",
    "\n",
    "laptops['os'] = laptops['os'].map(mapping_dict)"
   ]
  },
  {
   "cell_type": "code",
   "execution_count": 51,
   "metadata": {},
   "outputs": [
    {
     "data": {
      "text/plain": [
       "Windows      1125\n",
       "No OS          66\n",
       "Linux          62\n",
       "Chrome OS      27\n",
       "macOS          21\n",
       "Android         2\n",
       "Name: os, dtype: int64"
      ]
     },
     "execution_count": 51,
     "metadata": {},
     "output_type": "execute_result"
    }
   ],
   "source": [
    "laptops['os'].value_counts(dropna=False)"
   ]
  },
  {
   "cell_type": "code",
   "execution_count": 49,
   "metadata": {},
   "outputs": [
    {
     "data": {
      "text/plain": [
       "10      1072\n",
       "NaN      170\n",
       "7         45\n",
       "X          8\n",
       "10 S       8\n",
       "Name: os_version, dtype: int64"
      ]
     },
     "execution_count": 49,
     "metadata": {},
     "output_type": "execute_result"
    }
   ],
   "source": [
    "laptops['os_version'].value_counts(dropna=False)"
   ]
  },
  {
   "cell_type": "code",
   "execution_count": 52,
   "metadata": {},
   "outputs": [
    {
     "data": {
      "text/plain": [
       "170"
      ]
     },
     "execution_count": 52,
     "metadata": {},
     "output_type": "execute_result"
    }
   ],
   "source": [
    "laptops['os_version'].isnull().sum()"
   ]
  },
  {
   "cell_type": "markdown",
   "metadata": {},
   "source": [
    "This is the only column in this dataframe that has an null values.\n",
    "\n",
    "This raises the question of how to respond to this situation. Whether we should remove these rows, enter some value, or eliminate the column altogether.\n",
    "\n",
    "If this data were to be used for machine learning, dropping some entries would make sense, but as no such use is currently planned, we'll just leave these entries alone for now.\n",
    "\n",
    "In some cases, the value in the 'os' column, is 'No OS'. In that case it makes no sense to talk about an OS version. In those cases we will replace the NaNs with 'Version Unknown', but otherwise we will leave the 'os_version' column and the rows with NaNs as they are."
   ]
  },
  {
   "cell_type": "code",
   "execution_count": 53,
   "metadata": {
    "collapsed": true
   },
   "outputs": [],
   "source": [
    "laptops.loc[laptops['os']=='No OS', 'os_version'] = ('Version Unknown')"
   ]
  },
  {
   "cell_type": "code",
   "execution_count": 54,
   "metadata": {},
   "outputs": [
    {
     "data": {
      "text/plain": [
       "Linux        62\n",
       "Chrome OS    27\n",
       "macOS        13\n",
       "Android       2\n",
       "Name: os, dtype: int64"
      ]
     },
     "execution_count": 54,
     "metadata": {},
     "output_type": "execute_result"
    }
   ],
   "source": [
    "laptops.loc[laptops[\"os_version\"].isnull(), \"os\"].value_counts()"
   ]
  },
  {
   "cell_type": "markdown",
   "metadata": {},
   "source": [
    "This is the end of the steps explicitly carried out in the courseware. The exception is the work done on the 'weight' and 'price_euros' columns which weren't modified in the course but which we converted here.\n",
    "\n",
    "Next, let's consider the suggested expansion tasks."
   ]
  },
  {
   "cell_type": "markdown",
   "metadata": {},
   "source": [
    "## 2. Expansion work"
   ]
  },
  {
   "attachments": {},
   "cell_type": "markdown",
   "metadata": {},
   "source": [
    "\n",
    "<img src=\"image.png\" width=\"800\" />\n",
    "\n"
   ]
  },
  {
   "cell_type": "markdown",
   "metadata": {},
   "source": [
    "We've already dealt with the price column above.\n",
    "\n",
    "#### Extracting the screen resolution"
   ]
  },
  {
   "cell_type": "code",
   "execution_count": 71,
   "metadata": {},
   "outputs": [
    {
     "data": {
      "text/plain": [
       "Full HD 1920x1080                                507\n",
       "1366x768                                         281\n",
       "IPS Panel Full HD 1920x1080                      230\n",
       "IPS Panel Full HD / Touchscreen 1920x1080         53\n",
       "Full HD / Touchscreen 1920x1080                   47\n",
       "1600x900                                          23\n",
       "Touchscreen 1366x768                              16\n",
       "Quad HD+ / Touchscreen 3200x1800                  15\n",
       "IPS Panel 4K Ultra HD 3840x2160                   12\n",
       "IPS Panel 4K Ultra HD / Touchscreen 3840x2160     11\n",
       "4K Ultra HD / Touchscreen 3840x2160               10\n",
       "Touchscreen 2560x1440                              7\n",
       "IPS Panel 1366x768                                 7\n",
       "4K Ultra HD 3840x2160                              7\n",
       "Touchscreen 2256x1504                              6\n",
       "IPS Panel Quad HD+ / Touchscreen 3200x1800         6\n",
       "IPS Panel Retina Display 2560x1600                 6\n",
       "IPS Panel Retina Display 2304x1440                 6\n",
       "IPS Panel Touchscreen 2560x1440                    5\n",
       "IPS Panel Retina Display 2880x1800                 4\n",
       "IPS Panel 2560x1440                                4\n",
       "IPS Panel Touchscreen 1920x1200                    4\n",
       "1440x900                                           4\n",
       "Touchscreen 2400x1600                              3\n",
       "2560x1440                                          3\n",
       "IPS Panel Touchscreen 1366x768                     3\n",
       "IPS Panel Quad HD+ 2560x1440                       3\n",
       "1920x1080                                          3\n",
       "Quad HD+ 3200x1800                                 3\n",
       "IPS Panel Touchscreen / 4K Ultra HD 3840x2160      2\n",
       "IPS Panel Full HD 2160x1440                        2\n",
       "IPS Panel Quad HD+ 3200x1800                       2\n",
       "IPS Panel Full HD 2560x1440                        1\n",
       "IPS Panel Full HD 1920x1200                        1\n",
       "Touchscreen / Full HD 1920x1080                    1\n",
       "IPS Panel Full HD 1366x768                         1\n",
       "Touchscreen / Quad HD+ 3200x1800                   1\n",
       "Touchscreen / 4K Ultra HD 3840x2160                1\n",
       "IPS Panel Touchscreen 2400x1600                    1\n",
       "IPS Panel Retina Display 2736x1824                 1\n",
       "Name: screen, dtype: int64"
      ]
     },
     "execution_count": 71,
     "metadata": {},
     "output_type": "execute_result"
    }
   ],
   "source": [
    "laptops['screen'].value_counts()"
   ]
  },
  {
   "cell_type": "markdown",
   "metadata": {},
   "source": [
    "All screen rows have the same format which ends with the resolution. We can extract this information in a similar way to what we did for CPUs and GPUs."
   ]
  },
  {
   "cell_type": "code",
   "execution_count": 57,
   "metadata": {
    "collapsed": true
   },
   "outputs": [],
   "source": [
    "laptops['screen_res'] = laptops['screen'].str.split().str[-1]"
   ]
  },
  {
   "cell_type": "code",
   "execution_count": 58,
   "metadata": {},
   "outputs": [
    {
     "data": {
      "text/plain": [
       "0    2560x1600\n",
       "1     1440x900\n",
       "2    1920x1080\n",
       "3    2880x1800\n",
       "4    2560x1600\n",
       "5     1366x768\n",
       "6    2880x1800\n",
       "7     1440x900\n",
       "8    1920x1080\n",
       "9    1920x1080\n",
       "Name: screen_res, dtype: object"
      ]
     },
     "execution_count": 58,
     "metadata": {},
     "output_type": "execute_result"
    }
   ],
   "source": [
    "laptops['screen_res'].head(10)"
   ]
  },
  {
   "cell_type": "markdown",
   "metadata": {},
   "source": [
    "#### Extracting the CPU speed"
   ]
  },
  {
   "cell_type": "code",
   "execution_count": 60,
   "metadata": {},
   "outputs": [],
   "source": [
    "laptops['cpu_speed'] = laptops['cpu'].str.split().str[-1]"
   ]
  },
  {
   "cell_type": "code",
   "execution_count": 62,
   "metadata": {},
   "outputs": [
    {
     "data": {
      "text/plain": [
       "2.5GHz     290\n",
       "2.8GHz     165\n",
       "2.7GHz     165\n",
       "1.6GHz     133\n",
       "2.3GHz      86\n",
       "1.8GHz      78\n",
       "2.6GHz      76\n",
       "2GHz        67\n",
       "1.1GHz      53\n",
       "2.4GHz      52\n",
       "2.9GHz      21\n",
       "2.0GHz      19\n",
       "3GHz        19\n",
       "1.2GHz      15\n",
       "1.44GHz     12\n",
       "2.2GHz      11\n",
       "1.5GHz      10\n",
       "1.3GHz       6\n",
       "3.6GHz       5\n",
       "0.9GHz       4\n",
       "2.1GHz       3\n",
       "3.1GHz       3\n",
       "2.50GHz      3\n",
       "1.9GHz       2\n",
       "1.0GHz       1\n",
       "2.70GHz      1\n",
       "1.92GHz      1\n",
       "3.2GHz       1\n",
       "1.60GHz      1\n",
       "Name: cpu_speed, dtype: int64"
      ]
     },
     "execution_count": 62,
     "metadata": {},
     "output_type": "execute_result"
    }
   ],
   "source": [
    "laptops['cpu_speed'].value_counts()"
   ]
  },
  {
   "cell_type": "markdown",
   "metadata": {},
   "source": [
    "## Answering questions with the data\n",
    "\n",
    "### 1. Are laptops made by Apple more expensive than those made by other manufacturers?\n",
    "\n",
    "To answer this question let's separate out Apple and non-Apple laptops and examine the key statistics of their prices.\n",
    "\n"
   ]
  },
  {
   "cell_type": "code",
   "execution_count": 65,
   "metadata": {},
   "outputs": [],
   "source": [
    "apple_laptops = laptops.loc[laptops['manufacturer']=='Apple', 'price_eu']\n",
    "non_apple_laptops = laptops.loc[laptops['manufacturer']!='Apple', 'price_eu']"
   ]
  },
  {
   "cell_type": "code",
   "execution_count": 68,
   "metadata": {},
   "outputs": [
    {
     "name": "stdout",
     "output_type": "stream",
     "text": [
      "21\n",
      "1282\n",
      "1303\n"
     ]
    }
   ],
   "source": [
    "# quick sanity check of the resulting dataframes\n",
    "\n",
    "print(apple_laptops.shape[0])\n",
    "print(non_apple_laptops.shape[0])\n",
    "print(laptops.shape[0])"
   ]
  },
  {
   "cell_type": "code",
   "execution_count": 69,
   "metadata": {},
   "outputs": [
    {
     "data": {
      "text/plain": [
       "count      21.000000\n",
       "mean     1564.198571\n",
       "std       561.623595\n",
       "min       898.940000\n",
       "25%      1163.000000\n",
       "50%      1339.690000\n",
       "75%      1958.900000\n",
       "max      2858.000000\n",
       "Name: price_eu, dtype: float64"
      ]
     },
     "execution_count": 69,
     "metadata": {},
     "output_type": "execute_result"
    }
   ],
   "source": [
    "apple_laptops.describe()"
   ]
  },
  {
   "cell_type": "code",
   "execution_count": 70,
   "metadata": {},
   "outputs": [
    {
     "data": {
      "text/plain": [
       "count    1282.000000\n",
       "mean     1116.471123\n",
       "std       698.903305\n",
       "min       174.000000\n",
       "25%       598.000000\n",
       "50%       959.500000\n",
       "75%      1478.500000\n",
       "max      6099.000000\n",
       "Name: price_eu, dtype: float64"
      ]
     },
     "execution_count": 70,
     "metadata": {},
     "output_type": "execute_result"
    }
   ],
   "source": [
    "non_apple_laptops.describe()"
   ]
  },
  {
   "cell_type": "markdown",
   "metadata": {},
   "source": [
    "The answer to this question is nuanced. Apple laptops have a higher average price (1564.20 Euro) than the non-Apple laptops (1116.47 Euro), but the range of non-Apple laptop prices is much greater. The most expensive non-Apple laptop bring with it a pricetag of over 6000 Euros!\n",
    "\n",
    "### 2. What is the best value laptop with a screen size of 15\" or more?\n",
    "\n",
    "This question requires some interpretation. We will assume here that the best value laptop is the cheapest one that meets the screensize requirement. We will filter out the laptops that meet the size requirement and then select the one(s) with the lowest price."
   ]
  },
  {
   "cell_type": "code",
   "execution_count": 77,
   "metadata": {},
   "outputs": [
    {
     "name": "stdout",
     "output_type": "stream",
     "text": [
      "290    Chromebook C910-C2ST\n",
      "Name: model, dtype: object\n"
     ]
    }
   ],
   "source": [
    "fifteen_inch = laptops.loc[laptops['screensize'] >= 15,: ]\n",
    "best_value = fifteen_inch.loc[fifteen_inch['price_eu'] == fifteen_inch['price_eu'].min(),:]\n",
    "print(best_value['model'])"
   ]
  },
  {
   "cell_type": "markdown",
   "metadata": {},
   "source": [
    "It turns out the best value laptop with a screen 15 inches or greater is a Chromebook C910-C2ST.\n",
    "\n",
    "\n",
    "### 3. Which laptop has the most storage space?\n",
    "\n",
    "Next we look for the laptop(s) with the most storage space. "
   ]
  },
  {
   "cell_type": "code",
   "execution_count": 83,
   "metadata": {},
   "outputs": [
    {
     "name": "stdout",
     "output_type": "stream",
     "text": [
      "            model  storage  price_eu\n",
      "950  ZBook Studio  8GB SSD    2249.0\n"
     ]
    }
   ],
   "source": [
    "most_storage = laptops.loc[laptops['storage']== laptops['storage'].max(),:]\n",
    "print(most_storage[['model', 'storage', 'price_eu']])"
   ]
  },
  {
   "cell_type": "markdown",
   "metadata": {},
   "source": [
    "The laptop with the most storage is the ZBook Studio, with an 8GB SSD at a price of 2249 Euro.\n",
    "\n"
   ]
  },
  {
   "cell_type": "code",
   "execution_count": null,
   "metadata": {
    "collapsed": true
   },
   "outputs": [],
   "source": []
  }
 ],
 "metadata": {
  "kernelspec": {
   "display_name": "Python 3",
   "language": "python",
   "name": "python3"
  },
  "language_info": {
   "codemirror_mode": {
    "name": "ipython",
    "version": 3
   },
   "file_extension": ".py",
   "mimetype": "text/x-python",
   "name": "python",
   "nbconvert_exporter": "python",
   "pygments_lexer": "ipython3",
   "version": "3.6.2"
  }
 },
 "nbformat": 4,
 "nbformat_minor": 2
}
